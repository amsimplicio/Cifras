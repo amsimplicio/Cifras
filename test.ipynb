{
 "cells": [
  {
   "cell_type": "code",
   "execution_count": 12,
   "metadata": {},
   "outputs": [],
   "source": [
    "def encode( text):\n",
    "    text = text.replace(\" \",\"\")\n",
    "    first = [text[i] for i in range(0,len(text),2)]\n",
    "    second = [text[i] for i in range(1,len(text),2)]\n",
    "    return \"\".join(first) + \" \" + \"\".join(second)\n",
    "\n",
    "def decode(text):\n",
    "    result = \"\"\n",
    "    for i in range(len(text.split(\" \")[1])):\n",
    "        result += text.split(\" \")[0][i] + text.split(\" \")[1][i] \n",
    "    if len(text.split(\" \")[0]) > len(text.split(\" \")[1]):\n",
    "        result += text.split(\" \")[0][-1]\n",
    "    return result"
   ]
  },
  {
   "cell_type": "code",
   "execution_count": 13,
   "metadata": {},
   "outputs": [
    {
     "data": {
      "text/plain": [
       "'CAAOOORSA HMRSCRIT'"
      ]
     },
     "execution_count": 13,
     "metadata": {},
     "output_type": "execute_result"
    }
   ],
   "source": [
    "encode(\"CHAMAR O SOCORRISTA \")"
   ]
  },
  {
   "cell_type": "code",
   "execution_count": 14,
   "metadata": {},
   "outputs": [
    {
     "data": {
      "text/plain": [
       "'CHAMAROSOCORRISTA'"
      ]
     },
     "execution_count": 14,
     "metadata": {},
     "output_type": "execute_result"
    }
   ],
   "source": [
    "decode(\"CAAOOORSA HMRSCRIT\")"
   ]
  },
  {
   "cell_type": "code",
   "execution_count": 16,
   "metadata": {},
   "outputs": [],
   "source": [
    "text = \"Olá, você está ótimo com açúcar e café!\""
   ]
  },
  {
   "cell_type": "code",
   "execution_count": 17,
   "metadata": {},
   "outputs": [],
   "source": [
    "import unicodedata"
   ]
  },
  {
   "cell_type": "code",
   "execution_count": 18,
   "metadata": {},
   "outputs": [],
   "source": [
    "normalized_text = unicodedata.normalize('NFD', text)\n"
   ]
  },
  {
   "cell_type": "code",
   "execution_count": 19,
   "metadata": {},
   "outputs": [
    {
     "data": {
      "text/plain": [
       "'Olá, você está ótimo com açúcar e café!'"
      ]
     },
     "execution_count": 19,
     "metadata": {},
     "output_type": "execute_result"
    }
   ],
   "source": [
    "normalized_text"
   ]
  },
  {
   "cell_type": "code",
   "execution_count": 20,
   "metadata": {},
   "outputs": [
    {
     "data": {
      "text/plain": [
       "['a', 'b', 'c', '', 'd', 'e']"
      ]
     },
     "execution_count": 20,
     "metadata": {},
     "output_type": "execute_result"
    }
   ],
   "source": [
    "\"a b c  d e\".split(\" \")"
   ]
  },
  {
   "cell_type": "code",
   "execution_count": 22,
   "metadata": {},
   "outputs": [],
   "source": [
    "reverse_map = {\n",
    "        'I': 'a', 'II': 'e', 'III': 'i', 'IV': 'o', 'V': 'u',  # Roman numerals to vowels\n",
    "        '1': 'b', '2': 'c', '3': 'd', '4': 'f', '5': 'g', '6': 'h',  # Custom numbers to consonants\n",
    "        '7': 'j', '8': 'k', '9': 'l', '10': 'm', '11': 'n', '12': 'p',\n",
    "        '13': 'q', '14': 'r', '15': 's', '16': 't', '17': 'v', '18': 'w',\n",
    "        '19': 'x', '20': 'y', '21': 'z', \"\": \" \"\n",
    "        }"
   ]
  },
  {
   "cell_type": "code",
   "execution_count": 25,
   "metadata": {},
   "outputs": [
    {
     "data": {
      "text/plain": [
       "'alerta alerta'"
      ]
     },
     "execution_count": 25,
     "metadata": {},
     "output_type": "execute_result"
    }
   ],
   "source": [
    "''.join(reverse_map.get(char, char) for char in \"I 9 II 14 16 I  I 9 II 14 16 I\".split(\" \"))"
   ]
  },
  {
   "cell_type": "code",
   "execution_count": 29,
   "metadata": {},
   "outputs": [],
   "source": [
    "letter_to_number = {letter: number for number, letter in enumerate('abcdefghijklmnopqrstuvwxyz')}\n",
    "number_to_letter = {number: letter for number, letter in enumerate('abcdefghijklmnopqrstuvwxyz')}\n",
    "number_to_letter[\"\"] = \" \"\n",
    "\n",
    "def decode(text, shift):\n",
    "    numbers = text.split(\" \")\n",
    "    return   ''.join(number_to_letter[int(num) - shift] for num in numbers)"
   ]
  },
  {
   "cell_type": "code",
   "execution_count": 30,
   "metadata": {},
   "outputs": [
    {
     "data": {
      "text/plain": [
       "'abc'"
      ]
     },
     "execution_count": 30,
     "metadata": {},
     "output_type": "execute_result"
    }
   ],
   "source": [
    "decode(\"1 2 3\", 1)"
   ]
  },
  {
   "cell_type": "code",
   "execution_count": null,
   "metadata": {},
   "outputs": [],
   "source": []
  }
 ],
 "metadata": {
  "kernelspec": {
   "display_name": "AA",
   "language": "python",
   "name": "python3"
  },
  "language_info": {
   "codemirror_mode": {
    "name": "ipython",
    "version": 3
   },
   "file_extension": ".py",
   "mimetype": "text/x-python",
   "name": "python",
   "nbconvert_exporter": "python",
   "pygments_lexer": "ipython3",
   "version": "3.9.13"
  }
 },
 "nbformat": 4,
 "nbformat_minor": 2
}
